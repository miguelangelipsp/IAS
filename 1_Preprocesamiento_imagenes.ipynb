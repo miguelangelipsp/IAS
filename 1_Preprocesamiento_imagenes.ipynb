{
 "cells": [
  {
   "cell_type": "markdown",
   "metadata": {},
   "source": [
    "## Librerías"
   ]
  },
  {
   "cell_type": "code",
   "execution_count": 14,
   "metadata": {},
   "outputs": [],
   "source": [
    "##\n",
    "import numpy as np\n",
    "\"\"\"tratar imagenes\"\"\"\n",
    "import cv2\n",
    "\"\"\"crear graficas\"\"\"\n",
    "import matplotlib.pyplot as plt\n",
    "\"\"\"manipular rutas del sistema operativo\"\"\"\n",
    "import os\n",
    "\"\"\"encontrar directorios\"\"\"\n",
    "import pathlib\n",
    "\"\"\"mover archivos\"\"\"\n",
    "import shutil\n",
    "\"\"\"operaciones avanzadas con arrays de imagenes\"\"\"\n",
    "import scipy\n",
    "\"\"\"manipular imagenes\"\"\"\n",
    "import PIL\n",
    "\"\"\"invocar metodos avanzados\"\"\"\n",
    "import tensorflow as tf\n",
    "\"\"\"importar modulos de keras\"\"\"\n",
    "from tensorflow import keras\n",
    "\"\"\"generador de datos\"\"\"\n",
    "from tensorflow.keras.preprocessing.image import ImageDataGenerator\n",
    "\"\"\"conversor y carga de datos\"\"\"\n",
    "from keras.utils import  array_to_img, img_to_array, load_img"
   ]
  },
  {
   "cell_type": "markdown",
   "metadata": {},
   "source": [
    "# Cargar conjunto de datos"
   ]
  },
  {
   "cell_type": "code",
   "execution_count": 15,
   "metadata": {},
   "outputs": [
    {
     "name": "stdout",
     "output_type": "stream",
     "text": [
      "['ED6', 'EDH']\n"
     ]
    },
    {
     "data": {
      "text/plain": [
       "WindowsPath('../../Segmentacion')"
      ]
     },
     "execution_count": 15,
     "metadata": {},
     "output_type": "execute_result"
    }
   ],
   "source": [
    "\"\"\"directorio de imagenes\"\"\"\n",
    "dir_img = \"../../Segmentacion/\"\n",
    "\"\"\"comprobar directorio principal de imagenes\"\"\"\n",
    "dataimg_dir = pathlib.Path(dir_img)\n",
    "\"\"\"obtener clases de las imagenes\"\"\"\n",
    "clases_img = os.listdir(dataimg_dir)\n",
    "\"\"\"mostrar clases\"\"\"\n",
    "print(clases_img)\n",
    "\"\"\"mostrar directorio local\"\"\"\n",
    "dataimg_dir"
   ]
  },
  {
   "cell_type": "code",
   "execution_count": 16,
   "metadata": {},
   "outputs": [],
   "source": [
    "def comprobarImagenes(_clases_img,_dataimg_dir):\n",
    "    \"\"\"\n",
    "    Comprobar cantidad de imagenes por directorio o clase. \n",
    "    \"\"\"\n",
    "    for i in _clases_img:\n",
    "        \"\"\"mostrar n imagen\"\"\"\n",
    "        print(list(_dataimg_dir.glob(f'./{i}/*.jpg'))[:5])\n",
    "        \"\"\"mostrar cantidad imagen\"\"\"\n",
    "        print(len(list(_dataimg_dir.glob(f'./{i}/*.jpg'))))\n",
    "\n",
    "    print(\"Total imagenes:\",len(list(_dataimg_dir.glob('*/*.jpg'))))"
   ]
  },
  {
   "cell_type": "code",
   "execution_count": 20,
   "metadata": {},
   "outputs": [
    {
     "name": "stdout",
     "output_type": "stream",
     "text": [
      "[WindowsPath('../../Segmentacion/ED6/ED6_1.jpg'), WindowsPath('../../Segmentacion/ED6/ED6_10.jpg'), WindowsPath('../../Segmentacion/ED6/ED6_11.jpg'), WindowsPath('../../Segmentacion/ED6/ED6_12.jpg'), WindowsPath('../../Segmentacion/ED6/ED6_13.jpg')]\n",
      "25\n",
      "[WindowsPath('../../Segmentacion/EDH/Heces1.jpg'), WindowsPath('../../Segmentacion/EDH/Heces10.jpg'), WindowsPath('../../Segmentacion/EDH/Heces11.jpg'), WindowsPath('../../Segmentacion/EDH/Heces12.jpg'), WindowsPath('../../Segmentacion/EDH/Heces13.jpg')]\n",
      "16\n",
      "Total imagenes: 41\n"
     ]
    }
   ],
   "source": [
    "#mostrar el total de imágenes a procesar\n",
    "comprobarImagenes(clases_img,dataimg_dir)"
   ]
  },
  {
   "cell_type": "code",
   "execution_count": null,
   "metadata": {},
   "outputs": [],
   "source": [
    "\"\"\"instanciar clase generador de datos de imagenes a detalle por\n",
    "rango de rotacion, rango de cambio de ancho y por altura, reescalado,\n",
    "rango de corte, aproximacion y volteado de imagen\"\"\n",
    "\"\"\"\n",
    "generador_imagen = ImageDataGenerator(\n",
    "        rotation_range=40,\n",
    "        width_shift_range=0.3,\n",
    "        height_shift_range=0.3,\n",
    "        rescale=1./255,\n",
    "        shear_range=0.2,\n",
    "        zoom_range=0.3,\n",
    "        horizontal_flip=True,\n",
    "        #vertical_flip=True,\n",
    "        #channel_shift_range=5,\n",
    "        fill_mode='nearest'\n",
    "        )"
   ]
  },
  {
   "cell_type": "markdown",
   "metadata": {},
   "source": [
    "## Dimensiones de images"
   ]
  },
  {
   "cell_type": "code",
   "execution_count": 24,
   "metadata": {},
   "outputs": [
    {
     "name": "stdout",
     "output_type": "stream",
     "text": [
      "['ED6', 'EDH']\n"
     ]
    }
   ],
   "source": [
    "print(clases_img)"
   ]
  },
  {
   "cell_type": "code",
   "execution_count": 43,
   "metadata": {},
   "outputs": [],
   "source": [
    "\"\"\"crear diccionario para el acceso de imagenes\"\"\"\n",
    "alime = {\n",
    "    'ed6': list(dataimg_dir.glob('ED6/*')),\n",
    "    'edh': list(dataimg_dir.glob('EDH/*'))\n",
    "}\n",
    "\n",
    "\"\"\"crear diccionario de etiquetas\"\"\"\n",
    "cacao_etiquetas = {\n",
    "    'ed6': 0,\n",
    "    'edh':1\n",
    "}"
   ]
  },
  {
   "cell_type": "code",
   "execution_count": 56,
   "metadata": {},
   "outputs": [],
   "source": [
    "\"\"\"directorio de imagenes\"\"\"\n",
    "dsave_imager1 = \"../../Redimension1/\"\n",
    "\"\"\"comprobar directorio principal de imagenes\"\"\"\n",
    "maindir_r1 = pathlib.Path(dsave_imager1)\n",
    "\"\"\"diccionario de almacenamiento\"\"\"\n",
    "dict_saver1 = {\n",
    "    'ed6': list(maindir_r1.glob('ED6/*')),\n",
    "    'edh': list(maindir_r1.glob('EDH/*'))\n",
    "}"
   ]
  },
  {
   "cell_type": "code",
   "execution_count": 51,
   "metadata": {},
   "outputs": [],
   "source": [
    "\"\"\"funcion para observar la dimension de las imagenes\"\"\"\n",
    "def verificarDimensionImg(_cacaoimgdict):\n",
    "    \"\"\"acceder al conjunto de imagenes\"\"\"\n",
    "    for clase,imgs_cacao in _cacaoimgdict.items():\n",
    "        \"\"\"mostrar clase de cacao\"\"\"\n",
    "        print('Clase:',clase)\n",
    "        \"\"\"acceder a cada img\"\"\"\n",
    "        for imagen in range(len(imgs_cacao)):\n",
    "            \"\"\"mostrar clase de cacao, nombre imagen, dimension (y, x, RGB)\"\"\"\n",
    "            print(f\"{str(_cacaoimgdict[clase][imagen])}:{cv2.imread(str(_cacaoimgdict[clase][imagen])).shape}\")"
   ]
  },
  {
   "cell_type": "code",
   "execution_count": 52,
   "metadata": {},
   "outputs": [
    {
     "name": "stdout",
     "output_type": "stream",
     "text": [
      "Clase: ed6\n",
      "..\\..\\Segmentacion\\ED6\\ED6_1.jpg:(1080, 1920, 3)\n",
      "..\\..\\Segmentacion\\ED6\\ED6_10.jpg:(1080, 1920, 3)\n",
      "..\\..\\Segmentacion\\ED6\\ED6_11.jpg:(1080, 1920, 3)\n",
      "..\\..\\Segmentacion\\ED6\\ED6_12.jpg:(1080, 1920, 3)\n",
      "..\\..\\Segmentacion\\ED6\\ED6_13.jpg:(1080, 1920, 3)\n",
      "..\\..\\Segmentacion\\ED6\\ED6_14.jpg:(1080, 1920, 3)\n",
      "..\\..\\Segmentacion\\ED6\\ED6_15.jpg:(1080, 1920, 3)\n",
      "..\\..\\Segmentacion\\ED6\\ED6_16.jpg:(1080, 1920, 3)\n",
      "..\\..\\Segmentacion\\ED6\\ED6_17.jpg:(1080, 1920, 3)\n",
      "..\\..\\Segmentacion\\ED6\\ED6_18.jpg:(1080, 1920, 3)\n",
      "..\\..\\Segmentacion\\ED6\\ED6_19.jpg:(1080, 1920, 3)\n",
      "..\\..\\Segmentacion\\ED6\\ED6_2.jpg:(1080, 1920, 3)\n",
      "..\\..\\Segmentacion\\ED6\\ED6_20.jpg:(1080, 1920, 3)\n",
      "..\\..\\Segmentacion\\ED6\\ED6_21.jpg:(1080, 1920, 3)\n",
      "..\\..\\Segmentacion\\ED6\\ED6_22.jpg:(1080, 1920, 3)\n",
      "..\\..\\Segmentacion\\ED6\\ED6_23.jpg:(1080, 1920, 3)\n",
      "..\\..\\Segmentacion\\ED6\\ED6_24.jpg:(1080, 1920, 3)\n",
      "..\\..\\Segmentacion\\ED6\\ED6_25.jpg:(1080, 1920, 3)\n",
      "..\\..\\Segmentacion\\ED6\\ED6_3.jpg:(1080, 1920, 3)\n",
      "..\\..\\Segmentacion\\ED6\\ED6_4.jpg:(1080, 1920, 3)\n",
      "..\\..\\Segmentacion\\ED6\\ED6_5.jpg:(1080, 1920, 3)\n",
      "..\\..\\Segmentacion\\ED6\\ED6_6.jpg:(1080, 1920, 3)\n",
      "..\\..\\Segmentacion\\ED6\\ED6_7.jpg:(1080, 1920, 3)\n",
      "..\\..\\Segmentacion\\ED6\\ED6_8.jpg:(1080, 1920, 3)\n",
      "..\\..\\Segmentacion\\ED6\\ED6_9.jpg:(1080, 1920, 3)\n",
      "Clase: edh\n",
      "..\\..\\Segmentacion\\EDH\\Heces10_EDH.jpg:(1080, 1920, 3)\n",
      "..\\..\\Segmentacion\\EDH\\Heces11_EDH.jpg:(1080, 1920, 3)\n",
      "..\\..\\Segmentacion\\EDH\\Heces12_EDH.jpg:(1080, 1920, 3)\n",
      "..\\..\\Segmentacion\\EDH\\Heces13_EDH.jpg:(1080, 1920, 3)\n",
      "..\\..\\Segmentacion\\EDH\\Heces14_EDH.jpg:(1080, 1920, 3)\n",
      "..\\..\\Segmentacion\\EDH\\Heces15_EDH.jpg:(1080, 1920, 3)\n",
      "..\\..\\Segmentacion\\EDH\\Heces16_EDH.jpg:(1080, 1920, 3)\n",
      "..\\..\\Segmentacion\\EDH\\Heces1_EDH.jpg:(1080, 1920, 3)\n",
      "..\\..\\Segmentacion\\EDH\\Heces2_EDH.jpg:(1080, 1920, 3)\n",
      "..\\..\\Segmentacion\\EDH\\Heces3_EDH.jpg:(1080, 1920, 3)\n",
      "..\\..\\Segmentacion\\EDH\\Heces4_EDH.jpg:(1080, 1920, 3)\n",
      "..\\..\\Segmentacion\\EDH\\Heces5_EDH.jpg:(1080, 1920, 3)\n",
      "..\\..\\Segmentacion\\EDH\\Heces6_EDH.jpg:(1080, 1920, 3)\n",
      "..\\..\\Segmentacion\\EDH\\Heces7_EDH.jpg:(1080, 1920, 3)\n",
      "..\\..\\Segmentacion\\EDH\\Heces8_EDH.jpg:(1080, 1920, 3)\n",
      "..\\..\\Segmentacion\\EDH\\Heces9_EDH.jpg:(1080, 1920, 3)\n"
     ]
    }
   ],
   "source": [
    "verificarDimensionImg(alime)"
   ]
  },
  {
   "cell_type": "code",
   "execution_count": 57,
   "metadata": {},
   "outputs": [],
   "source": [
    "\n",
    "def cambiarDimensionImg(_dictimgs, ancho=0, alto=0):\n",
    "    \"\"\"Cambiar dimension de imagenes\"\"\"\n",
    "    \"\"\"seleccionar clase e imagenes a partir del diccionario de imgs\"\"\" \n",
    "    for clase, imgs_cacao in _dictimgs.items():\n",
    "        \"\"\"mostrar clase cacao\"\"\"\n",
    "        print('Clase:',clase)\n",
    "        \"\"\"recorrer el conjunto de imagenes\"\"\"\n",
    "        for imagen in range(len(imgs_cacao)):\n",
    "            \"\"\"obtener dimension actual de img con todos los canales x y rgb\"\"\"\n",
    "            dimen_img = cv2.imread(str(_dictimgs[clase][imagen]),cv2.IMREAD_UNCHANGED)\n",
    "            \"\"\"cambiar dimension de img\"\"\"\n",
    "            imagen_redim = cv2.resize(dimen_img,(ancho,alto))\n",
    "            \"\"\"sobreescribir img\"\"\"\n",
    "            cv2.i\n",
    "            print(imagen)"
   ]
  },
  {
   "cell_type": "code",
   "execution_count": 59,
   "metadata": {},
   "outputs": [
    {
     "name": "stdout",
     "output_type": "stream",
     "text": [
      "Clase: ed6\n"
     ]
    },
    {
     "ename": "IndexError",
     "evalue": "list index out of range",
     "output_type": "error",
     "traceback": [
      "\u001b[1;31m---------------------------------------------------------------------------\u001b[0m",
      "\u001b[1;31mIndexError\u001b[0m                                Traceback (most recent call last)",
      "Cell \u001b[1;32mIn[59], line 2\u001b[0m\n\u001b[0;32m      1\u001b[0m \u001b[38;5;124;03m\"\"\"redimensionar imagenes\"\"\"\u001b[39;00m\n\u001b[1;32m----> 2\u001b[0m \u001b[43mcambiarDimensionImg\u001b[49m\u001b[43m(\u001b[49m\u001b[43malime\u001b[49m\u001b[43m,\u001b[49m\u001b[43m \u001b[49m\u001b[38;5;241;43m1440\u001b[39;49m\u001b[43m,\u001b[49m\u001b[43m \u001b[49m\u001b[38;5;241;43m810\u001b[39;49m\u001b[43m)\u001b[49m\n",
      "Cell \u001b[1;32mIn[57], line 14\u001b[0m, in \u001b[0;36mcambiarDimensionImg\u001b[1;34m(_dictimgs, ancho, alto)\u001b[0m\n\u001b[0;32m     12\u001b[0m imagen_redim \u001b[38;5;241m=\u001b[39m cv2\u001b[38;5;241m.\u001b[39mresize(dimen_img,(ancho,alto))\n\u001b[0;32m     13\u001b[0m \u001b[38;5;250m\u001b[39m\u001b[38;5;124;03m\"\"\"sobreescribir img\"\"\"\u001b[39;00m\n\u001b[1;32m---> 14\u001b[0m cv2\u001b[38;5;241m.\u001b[39mimwrite(\u001b[38;5;28mstr\u001b[39m(\u001b[43mdict_saver1\u001b[49m\u001b[43m[\u001b[49m\u001b[43mclase\u001b[49m\u001b[43m]\u001b[49m\u001b[43m[\u001b[49m\u001b[43mimagen\u001b[49m\u001b[43m]\u001b[49m),imagen_redim)\n\u001b[0;32m     15\u001b[0m \u001b[38;5;28mprint\u001b[39m(imagen)\n",
      "\u001b[1;31mIndexError\u001b[0m: list index out of range"
     ]
    }
   ],
   "source": [
    "\"\"\"redimensionar imagenes\"\"\"\n",
    "cambiarDimensionImg(alime, 1440, 810)"
   ]
  }
 ],
 "metadata": {
  "kernelspec": {
   "display_name": "Python 3",
   "language": "python",
   "name": "python3"
  },
  "language_info": {
   "codemirror_mode": {
    "name": "ipython",
    "version": 3
   },
   "file_extension": ".py",
   "mimetype": "text/x-python",
   "name": "python",
   "nbconvert_exporter": "python",
   "pygments_lexer": "ipython3",
   "version": "3.11.5"
  }
 },
 "nbformat": 4,
 "nbformat_minor": 2
}
