{
 "cells": [
  {
   "cell_type": "markdown",
   "metadata": {},
   "source": [
    "## Librerías"
   ]
  },
  {
   "cell_type": "code",
   "execution_count": 1,
   "metadata": {},
   "outputs": [],
   "source": [
    "##\n",
    "import numpy as np\n",
    "\"\"\"tratar imagenes\"\"\"\n",
    "import cv2\n",
    "\"\"\"crear graficas\"\"\"\n",
    "import matplotlib.pyplot as plt\n",
    "\"\"\"manipular rutas del sistema operativo\"\"\"\n",
    "import os\n",
    "\"\"\"encontrar directorios\"\"\"\n",
    "import pathlib\n",
    "\"\"\"mover archivos\"\"\"\n",
    "import shutil\n",
    "\"\"\"operaciones avanzadas con arrays de imagenes\"\"\"\n",
    "import scipy\n",
    "\"\"\"manipular imagenes\"\"\"\n",
    "import PIL\n",
    "\"\"\"invocar metodos avanzados\"\"\"\n",
    "import tensorflow as tf\n",
    "\"\"\"importar modulos de keras\"\"\"\n",
    "from tensorflow import keras\n",
    "\"\"\"generador de datos\"\"\"\n",
    "from tensorflow.keras.preprocessing.image import ImageDataGenerator\n",
    "\"\"\"conversor y carga de datos\"\"\"\n",
    "from keras.utils import  array_to_img, img_to_array, load_img\n",
    "\"\"\"eliminar fondo de imagenes\"\"\"\n",
    "from rembg import remove"
   ]
  },
  {
   "cell_type": "markdown",
   "metadata": {},
   "source": [
    "# Cargar conjunto de datos"
   ]
  },
  {
   "cell_type": "code",
   "execution_count": 2,
   "metadata": {},
   "outputs": [
    {
     "name": "stdout",
     "output_type": "stream",
     "text": [
      "['ED3', 'ED6', 'EDH']\n"
     ]
    },
    {
     "data": {
      "text/plain": [
       "WindowsPath('../../Segmentacion')"
      ]
     },
     "execution_count": 2,
     "metadata": {},
     "output_type": "execute_result"
    }
   ],
   "source": [
    "\"\"\"directorio de imagenes\"\"\"\n",
    "dir_img = \"../../Segmentacion/\"\n",
    "\"\"\"comprobar directorio principal de imagenes\"\"\"\n",
    "dataimg_dir = pathlib.Path(dir_img)\n",
    "\"\"\"obtener clases de las imagenes\"\"\"\n",
    "clases_img = os.listdir(dataimg_dir)\n",
    "\"\"\"mostrar clases\"\"\"\n",
    "print(clases_img)\n",
    "\"\"\"mostrar directorio local\"\"\"\n",
    "dataimg_dir"
   ]
  },
  {
   "cell_type": "code",
   "execution_count": 3,
   "metadata": {},
   "outputs": [],
   "source": [
    "\"\"\"crear diccionario para el acceso de imagenes\"\"\"\n",
    "img_subset = {\n",
    "    'ed3': list(dataimg_dir.glob('ED3/*')),\n",
    "    'ed6': list(dataimg_dir.glob('ED6/*')),\n",
    "    'edh': list(dataimg_dir.glob('EDH/*'))\n",
    "}\n",
    "\n",
    "\"\"\"crear diccionario de etiquetas\"\"\"\n",
    "cacao_etiquetas = {\n",
    "    'ed3': 0,\n",
    "    'ed6':1,\n",
    "    'edh':2\n",
    "}"
   ]
  },
  {
   "cell_type": "code",
   "execution_count": 4,
   "metadata": {},
   "outputs": [],
   "source": [
    "\"\"\"directorio de imagenes\"\"\"\n",
    "dsave_imager1 = \"../../Redimension1/\"\n",
    "\"\"\"comprobar directorio principal de imagenes\"\"\"\n",
    "maindir_r1 = pathlib.Path(dsave_imager1)\n",
    "\"\"\"diccionario de almacenamiento\"\"\"\n",
    "dict_saver1 = {\n",
    "    'ed3': list(maindir_r1.glob('ED3/')),\n",
    "    'ed6': list(maindir_r1.glob('ED6/')),\n",
    "    'edh': list(maindir_r1.glob('EDH/'))\n",
    "}"
   ]
  },
  {
   "cell_type": "code",
   "execution_count": 5,
   "metadata": {},
   "outputs": [],
   "source": [
    "def comprobarImagenes(_clases_img,_dataimg_dir):\n",
    "    \"\"\"\n",
    "    Comprobar cantidad de imagenes por directorio o clase. \n",
    "    \"\"\"\n",
    "    for i in _clases_img:\n",
    "        \"\"\"mostrar n imagen\"\"\"\n",
    "        print(list(_dataimg_dir.glob(f'./{i}/*.jpg'))[:5])\n",
    "        \"\"\"mostrar cantidad imagen\"\"\"\n",
    "        print(len(list(_dataimg_dir.glob(f'./{i}/*.jpg'))))\n",
    "\n",
    "    print(\"Total imagenes:\",len(list(_dataimg_dir.glob('*/*.jpg'))))"
   ]
  },
  {
   "cell_type": "code",
   "execution_count": null,
   "metadata": {},
   "outputs": [],
   "source": [
    "#mostrar el total de imágenes a procesar\n",
    "comprobarImagenes(clases_img,dataimg_dir)"
   ]
  },
  {
   "cell_type": "markdown",
   "metadata": {},
   "source": [
    "## Dimensiones de images"
   ]
  },
  {
   "cell_type": "code",
   "execution_count": 176,
   "metadata": {},
   "outputs": [],
   "source": [
    "\"\"\"funcion para observar la dimension de las imagenes\"\"\"\n",
    "def verificarDimensionImg(_cacaoimgdict):\n",
    "    \"\"\"acceder al conjunto de imagenes\"\"\"\n",
    "    for clase,imgs_cacao in _cacaoimgdict.items():\n",
    "        \"\"\"mostrar clase de cacao\"\"\"\n",
    "        print('Clase:',clase)\n",
    "        \"\"\"acceder a cada img\"\"\"\n",
    "        for imagen in range(len(imgs_cacao)):\n",
    "            \"\"\"mostrar clase de cacao, nombre imagen, dimension (y, x, RGB)\"\"\"\n",
    "            print(f\"{str(_cacaoimgdict[clase][imagen])}:{cv2.imread(str(_cacaoimgdict[clase][imagen])).shape}\")"
   ]
  },
  {
   "cell_type": "code",
   "execution_count": null,
   "metadata": {},
   "outputs": [],
   "source": [
    "verificarDimensionImg(img_subset)"
   ]
  },
  {
   "cell_type": "code",
   "execution_count": 178,
   "metadata": {},
   "outputs": [],
   "source": [
    "\n",
    "def cambiarDimensionImg(_dictimgs:dict, _dictsave:dict, ancho=0, alto=0):\n",
    "    \"\"\"Cambiar dimension de imagenes\"\"\"\n",
    "    \"\"\"seleccionar clase e imagenes a partir del diccionario de imgs\"\"\" \n",
    "    for (clase, images), (ksave) in zip(_dictimgs.items(), _dictsave.values()):\n",
    "        \"\"\"mostrar clase cacao\"\"\"\n",
    "        print('Clase:',clase)\n",
    "        \"\"\"recorrer el conjunto de imagenes\"\"\"\n",
    "        for imagen in range(len(images)):\n",
    "            \"\"\"obtener dimension actual de img con todos los canales x y rgb\"\"\"\n",
    "            dimen_img = cv2.imread(str(_dictimgs[clase][imagen]),cv2.IMREAD_UNCHANGED)\n",
    "            \"\"\"cambiar dimension de img\"\"\"\n",
    "            imagen_redim = cv2.resize(dimen_img,(ancho,alto))\n",
    "            \"\"\"sobreescribir img\"\"\"\n",
    "            print(f'{ksave[0]}/'+str(clase).upper()+ f'_{imagen+1}.jpg')\n",
    "            cv2.imwrite(f'{ksave[0]}/'+str(clase).upper()+ f'_{imagen+1}.jpg', imagen_redim)"
   ]
  },
  {
   "cell_type": "code",
   "execution_count": null,
   "metadata": {},
   "outputs": [],
   "source": [
    "\"\"\"NOTA: DEBO MEJORAR ESTA FUNCION PARA GUARDAR PROCESOS\"\"\"\n",
    "cambiarDimensionImg(img_subset, dict_saver1, 960, 540)"
   ]
  },
  {
   "cell_type": "markdown",
   "metadata": {},
   "source": [
    "## Aumentar Imágenes (DA)"
   ]
  },
  {
   "cell_type": "code",
   "execution_count": 6,
   "metadata": {},
   "outputs": [],
   "source": [
    "\"\"\"Objeto para generar imágenes por\n",
    "rango de rotacion: como quiero girar la imagen\n",
    "rango de cambio de ancho y por altura: mover el foco\n",
    "reescalado:\n",
    "rango de corte: corte de la imagen\n",
    "Aproximacion y volteado de imagen: generar la imagen\n",
    "\"\"\"\n",
    "generador_imagen = ImageDataGenerator(\n",
    "        rotation_range=20,\n",
    "        width_shift_range=0,\n",
    "        height_shift_range=0,\n",
    "        rescale=None,\n",
    "        shear_range=0.0,\n",
    "        zoom_range=0.0,\n",
    "        horizontal_flip=True,\n",
    "        #vertical_flip=True,\n",
    "        #channel_shift_range=5,\n",
    "        fill_mode='nearest'\n",
    "        )"
   ]
  },
  {
   "cell_type": "code",
   "execution_count": 22,
   "metadata": {},
   "outputs": [],
   "source": [
    "\"\"\"clase para aumentar imagenes\"\"\"\n",
    "class AumentarImagen(object):\n",
    "\n",
    "    \"\"\"metodo para crear imagen\"\"\"\n",
    "    def crearImagen(self, _generador_imagen, _ruta, _cantidad=0):\n",
    "        \"\"\"asignar directorio\"\"\"\n",
    "        os.chdir(_ruta)\n",
    "        j=1\n",
    "        \"\"\"acceder a imagenes de directorio\"\"\"\n",
    "        for dirimg in os.listdir():\n",
    "            \"\"\"seleccionar imagen\"\"\"\n",
    "            img = load_img(f\"{dirimg}\")\n",
    "            \"\"\"obtener imagen en array original\"\"\"\n",
    "            x = img_to_array(img)\n",
    "            \"\"\"reformar imagen\"\"\"\n",
    "            x = x.reshape((1,) + x.shape)\n",
    "            \"\"\"contador para crear imagen\"\"\"\n",
    "            i = 0\n",
    "            \"\"\"generar nueva imagen con objeto encapsulado\"\"\"\n",
    "            for bt in _generador_imagen.flow(x, \n",
    "                                            batch_size=1,\n",
    "                                            save_to_dir=_ruta,\n",
    "                                            save_prefix= dirimg[:-4]+f'_da', \n",
    "                                            save_format='jpg'):\n",
    "                i += 1\n",
    "                \"\"\"crear n imagenes de 1 img.jpg\"\"\"\n",
    "                if i == _cantidad:     \n",
    "                    break\n",
    "            print(f\"{j} : {dirimg}\")\n",
    "            j+=1\n",
    "\n",
    "    def eliminardFondo(ruta_img_fondo):\n",
    "        \"\"\"\n",
    "        Metodo para eliminar el fondo de las imagenes.\n",
    "        \n",
    "        imagenes_actuales: lista de imágenes en el directorio.\n",
    "        j: contador de imagen en el directorio.\n",
    "        imagen: contenido.\n",
    "        ruta_completa_imagen: ruta de la image.\n",
    "        d_img: lectura de la imagen\n",
    "        _, buffer: conversion de la imagen a png.\n",
    "        remover_fondo: eliminar fondo de la imagen.\n",
    "        output_image_path: guardar la imagen procesada.\n",
    "        \"\"\"\n",
    "        imagenes_actuales = os.listdir(ruta_img_fondo)\n",
    "        print(imagenes_actuales)\n",
    "        \n",
    "        #bloque de procesamiento de imagenes\n",
    "        j = 1\n",
    "        for imagen in imagenes_actuales:\n",
    "            ruta_completa_imagen = os.path.join(ruta_img_fondo, imagen)\n",
    "            d_img = cv2.imread(ruta_completa_imagen)\n",
    "\n",
    "            if d_img is None:\n",
    "                print(f\"Error al cargar la imagen: {imagen}\")\n",
    "                continue\n",
    "\n",
    "            _, buffer = cv2.imencode('.png', d_img)\n",
    "            remover_fondo = remove(buffer.tobytes())\n",
    "\n",
    "            #apertura y escritura de la imagen sin fondo\n",
    "            output_image_path = os.path.join(ruta_img_fondo, f\"{os.path.splitext(imagen)[0]}_sf{j}.png\")\n",
    "            with open(output_image_path, 'wb') as output_file:\n",
    "                output_file.write(remover_fondo)\n",
    "\n",
    "            print(f\"{j}: {imagen} procesada.\")\n",
    "            j += 1"
   ]
  },
  {
   "cell_type": "code",
   "execution_count": null,
   "metadata": {},
   "outputs": [],
   "source": [
    "ruta=\"../../Redimension1/EDH/\"\n",
    "\n",
    "\"\"\"crear objeto para aumentar imagenes\"\"\"\n",
    "aumentar_imagen = AumentarImagen()\n",
    "\"\"\"crear imagenes\"\"\"\n",
    "aumentar_imagen.crearImagen(generador_imagen,ruta, 19)"
   ]
  },
  {
   "cell_type": "markdown",
   "metadata": {},
   "source": [
    "## Eliminar el fondo"
   ]
  },
  {
   "cell_type": "code",
   "execution_count": null,
   "metadata": {},
   "outputs": [],
   "source": [
    "#direccion de la ruta\n",
    "ruta = \"../../Redimension1/EDH/\"\n",
    "#invocar metodo para eliminar el fondo de cada imagen\n",
    "aumentar_imagen.eliminardFondo(ruta)"
   ]
  }
 ],
 "metadata": {
  "kernelspec": {
   "display_name": "Python 3",
   "language": "python",
   "name": "python3"
  },
  "language_info": {
   "codemirror_mode": {
    "name": "ipython",
    "version": 3
   },
   "file_extension": ".py",
   "mimetype": "text/x-python",
   "name": "python",
   "nbconvert_exporter": "python",
   "pygments_lexer": "ipython3",
   "version": "3.11.5"
  }
 },
 "nbformat": 4,
 "nbformat_minor": 2
}
